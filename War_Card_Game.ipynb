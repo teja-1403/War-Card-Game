{
  "nbformat": 4,
  "nbformat_minor": 0,
  "metadata": {
    "colab": {
      "provenance": [],
      "authorship_tag": "ABX9TyNI7OzVbp4p140q5eurPada",
      "include_colab_link": true
    },
    "kernelspec": {
      "name": "python3",
      "display_name": "Python 3"
    },
    "language_info": {
      "name": "python"
    }
  },
  "cells": [
    {
      "cell_type": "markdown",
      "metadata": {
        "id": "view-in-github",
        "colab_type": "text"
      },
      "source": [
        "<a href=\"https://colab.research.google.com/github/teja-1403/War-Card-Game/blob/main/War_Card_Game.ipynb\" target=\"_parent\"><img src=\"https://colab.research.google.com/assets/colab-badge.svg\" alt=\"Open In Colab\"/></a>"
      ]
    },
    {
      "cell_type": "code",
      "execution_count": 79,
      "metadata": {
        "id": "rBzqV4mCG6zO"
      },
      "outputs": [],
      "source": [
        "#Card\n",
        "#Suit,Rank,Value\n",
        "\n",
        "import random"
      ]
    },
    {
      "cell_type": "code",
      "source": [
        "suits = ('Hearts', 'Diamonds', 'Spades', 'Clubs')\n",
        "ranks = ('Two', 'Three', 'Four', 'Five', 'Six', 'Seven', 'Eight', 'Nine', 'Ten',\n",
        "         'Jack', 'Queen', 'King', 'Ace')\n",
        "values = {'Two':2, 'Three':3, 'Four':4, 'Five':5, 'Six':6, 'Seven':7, 'Eight':8,\n",
        "            'Nine':9, 'Ten':10, 'Jack':11, 'Queen':12, 'King':13, 'Ace':14}"
      ],
      "metadata": {
        "id": "1fUWHDZXHMcK"
      },
      "execution_count": 80,
      "outputs": []
    },
    {
      "cell_type": "code",
      "source": [
        "class Card:\n",
        "\n",
        "    def __init__(self,suit,rank):\n",
        "        self.suit = suit\n",
        "        self.rank = rank\n",
        "        self.value = values[rank]\n",
        "\n",
        "    def __str__(self):\n",
        "        return self.rank + ' of ' + self.suit"
      ],
      "metadata": {
        "id": "hMo99mYNHPvS"
      },
      "execution_count": 81,
      "outputs": []
    },
    {
      "cell_type": "code",
      "source": [
        "two_hearts = Card(suits[0],ranks[0])"
      ],
      "metadata": {
        "id": "RxlFhJc4HRjS"
      },
      "execution_count": 82,
      "outputs": []
    },
    {
      "cell_type": "code",
      "source": [
        "print(two_hearts)"
      ],
      "metadata": {
        "colab": {
          "base_uri": "https://localhost:8080/"
        },
        "id": "ZHvt-XWgHTa6",
        "outputId": "95f65949-6a5a-4d6d-b35d-d8447c3b2cab"
      },
      "execution_count": 83,
      "outputs": [
        {
          "output_type": "stream",
          "name": "stdout",
          "text": [
            "Two of Hearts\n"
          ]
        }
      ]
    },
    {
      "cell_type": "code",
      "source": [
        "two_hearts.rank"
      ],
      "metadata": {
        "colab": {
          "base_uri": "https://localhost:8080/",
          "height": 36
        },
        "id": "pZfzoAHaHWrD",
        "outputId": "fbb4f77d-b461-4e31-e96f-19b39f0fd631"
      },
      "execution_count": 84,
      "outputs": [
        {
          "output_type": "execute_result",
          "data": {
            "text/plain": [
              "'Two'"
            ],
            "application/vnd.google.colaboratory.intrinsic+json": {
              "type": "string"
            }
          },
          "metadata": {},
          "execution_count": 84
        }
      ]
    },
    {
      "cell_type": "code",
      "source": [
        "two_hearts.value"
      ],
      "metadata": {
        "colab": {
          "base_uri": "https://localhost:8080/"
        },
        "id": "6C4CkyRMHZHq",
        "outputId": "52e004c8-ccc1-4161-ca3f-74a13693fede"
      },
      "execution_count": 85,
      "outputs": [
        {
          "output_type": "execute_result",
          "data": {
            "text/plain": [
              "2"
            ]
          },
          "metadata": {},
          "execution_count": 85
        }
      ]
    },
    {
      "cell_type": "code",
      "source": [
        "values[two_hearts.rank]"
      ],
      "metadata": {
        "colab": {
          "base_uri": "https://localhost:8080/"
        },
        "id": "cQ06082rHarz",
        "outputId": "ee181cef-206d-414d-8df0-f80beece5a70"
      },
      "execution_count": 86,
      "outputs": [
        {
          "output_type": "execute_result",
          "data": {
            "text/plain": [
              "2"
            ]
          },
          "metadata": {},
          "execution_count": 86
        }
      ]
    },
    {
      "cell_type": "code",
      "source": [
        "class Deck:\n",
        "\n",
        "    def __init__(self):\n",
        "        # Note this only happens once upon creation of a new Deck\n",
        "        self.all_cards = []\n",
        "        for suit in suits:\n",
        "            for rank in ranks:\n",
        "                # This assumes the Card class has already been defined!\n",
        "                self.all_cards.append(Card(suit,rank))\n",
        "\n",
        "    def shuffle(self):\n",
        "        # Note this doesn't return anything\n",
        "        random.shuffle(self.all_cards)\n",
        "\n",
        "    def deal_one(self):\n",
        "        # Note we remove one card from the list of all_cards\n",
        "        return self.all_cards.pop()"
      ],
      "metadata": {
        "id": "CNDgJVn4HbnT"
      },
      "execution_count": 87,
      "outputs": []
    },
    {
      "cell_type": "code",
      "source": [
        "mydeck = Deck()"
      ],
      "metadata": {
        "id": "5M_eEKX3HdYb"
      },
      "execution_count": 88,
      "outputs": []
    },
    {
      "cell_type": "code",
      "source": [
        "len(mydeck.all_cards)"
      ],
      "metadata": {
        "colab": {
          "base_uri": "https://localhost:8080/"
        },
        "id": "bg7mk4KFHe-q",
        "outputId": "9f5b5775-29ed-4033-a9b2-dda75c5c3b69"
      },
      "execution_count": 89,
      "outputs": [
        {
          "output_type": "execute_result",
          "data": {
            "text/plain": [
              "52"
            ]
          },
          "metadata": {},
          "execution_count": 89
        }
      ]
    },
    {
      "cell_type": "code",
      "source": [
        "for card in mydeck.all_cards:\n",
        "    print(card)"
      ],
      "metadata": {
        "colab": {
          "base_uri": "https://localhost:8080/"
        },
        "id": "0GAd4uo5Hh5r",
        "outputId": "83ebba41-1b50-4e5f-a69e-55eef14271a7"
      },
      "execution_count": 90,
      "outputs": [
        {
          "output_type": "stream",
          "name": "stdout",
          "text": [
            "Two of Hearts\n",
            "Three of Hearts\n",
            "Four of Hearts\n",
            "Five of Hearts\n",
            "Six of Hearts\n",
            "Seven of Hearts\n",
            "Eight of Hearts\n",
            "Nine of Hearts\n",
            "Ten of Hearts\n",
            "Jack of Hearts\n",
            "Queen of Hearts\n",
            "King of Hearts\n",
            "Ace of Hearts\n",
            "Two of Diamonds\n",
            "Three of Diamonds\n",
            "Four of Diamonds\n",
            "Five of Diamonds\n",
            "Six of Diamonds\n",
            "Seven of Diamonds\n",
            "Eight of Diamonds\n",
            "Nine of Diamonds\n",
            "Ten of Diamonds\n",
            "Jack of Diamonds\n",
            "Queen of Diamonds\n",
            "King of Diamonds\n",
            "Ace of Diamonds\n",
            "Two of Spades\n",
            "Three of Spades\n",
            "Four of Spades\n",
            "Five of Spades\n",
            "Six of Spades\n",
            "Seven of Spades\n",
            "Eight of Spades\n",
            "Nine of Spades\n",
            "Ten of Spades\n",
            "Jack of Spades\n",
            "Queen of Spades\n",
            "King of Spades\n",
            "Ace of Spades\n",
            "Two of Clubs\n",
            "Three of Clubs\n",
            "Four of Clubs\n",
            "Five of Clubs\n",
            "Six of Clubs\n",
            "Seven of Clubs\n",
            "Eight of Clubs\n",
            "Nine of Clubs\n",
            "Ten of Clubs\n",
            "Jack of Clubs\n",
            "Queen of Clubs\n",
            "King of Clubs\n",
            "Ace of Clubs\n"
          ]
        }
      ]
    },
    {
      "cell_type": "code",
      "source": [
        "mydeck.all_cards[0]"
      ],
      "metadata": {
        "colab": {
          "base_uri": "https://localhost:8080/"
        },
        "id": "AHyvH1jrHjMr",
        "outputId": "1d4df754-5e62-4f66-ad9d-bfdf1eef7333"
      },
      "execution_count": 91,
      "outputs": [
        {
          "output_type": "execute_result",
          "data": {
            "text/plain": [
              "<__main__.Card at 0x7ac1f020e620>"
            ]
          },
          "metadata": {},
          "execution_count": 91
        }
      ]
    },
    {
      "cell_type": "code",
      "source": [
        "print(mydeck.all_cards[0])"
      ],
      "metadata": {
        "colab": {
          "base_uri": "https://localhost:8080/"
        },
        "id": "q3fV1CWbHld6",
        "outputId": "7c6dcb24-c90a-4ff7-a1c8-36fef50108ca"
      },
      "execution_count": 92,
      "outputs": [
        {
          "output_type": "stream",
          "name": "stdout",
          "text": [
            "Two of Hearts\n"
          ]
        }
      ]
    },
    {
      "cell_type": "code",
      "source": [
        "mydeck.shuffle()"
      ],
      "metadata": {
        "id": "BX5sroocHnVy"
      },
      "execution_count": 93,
      "outputs": []
    },
    {
      "cell_type": "code",
      "source": [
        "print(mydeck.all_cards[0])"
      ],
      "metadata": {
        "colab": {
          "base_uri": "https://localhost:8080/"
        },
        "id": "SiZhx1ZpHpAy",
        "outputId": "6b704ede-403b-403e-d629-dfb1cb3a40a9"
      },
      "execution_count": 94,
      "outputs": [
        {
          "output_type": "stream",
          "name": "stdout",
          "text": [
            "Five of Clubs\n"
          ]
        }
      ]
    },
    {
      "cell_type": "code",
      "source": [
        "my_card = mydeck.deal_one()"
      ],
      "metadata": {
        "id": "Da0PlZJMHrNa"
      },
      "execution_count": 95,
      "outputs": []
    },
    {
      "cell_type": "code",
      "source": [
        "print(my_card)"
      ],
      "metadata": {
        "colab": {
          "base_uri": "https://localhost:8080/"
        },
        "id": "-knD_69_HtGx",
        "outputId": "d1023462-30d3-416d-b520-d2b915ab72a3"
      },
      "execution_count": 96,
      "outputs": [
        {
          "output_type": "stream",
          "name": "stdout",
          "text": [
            "Ten of Clubs\n"
          ]
        }
      ]
    },
    {
      "cell_type": "code",
      "source": [
        "class Player:\n",
        "\n",
        "    def __init__(self,name):\n",
        "        self.name = name\n",
        "        # A new player has no cards\n",
        "        self.all_cards = []\n",
        "\n",
        "    def remove_one(self):\n",
        "        # Note we remove one card from the list of all_cards\n",
        "        # We state 0 to remove from the \"top\" of the deck\n",
        "        # We'll imagine index -1 as the bottom of the deck\n",
        "        return self.all_cards.pop(0)\n",
        "\n",
        "    def add_cards(self,new_cards):\n",
        "        if type(new_cards) == type([]):\n",
        "            self.all_cards.extend(new_cards)\n",
        "        else:\n",
        "            self.all_cards.append(new_cards)\n",
        "\n",
        "\n",
        "    def __str__(self):\n",
        "        return f'Player {self.name} has {len(self.all_cards)} cards.'"
      ],
      "metadata": {
        "id": "l_9Dc0tuH6ta"
      },
      "execution_count": 97,
      "outputs": []
    },
    {
      "cell_type": "code",
      "source": [
        "new_player = Player(\"Jose\")"
      ],
      "metadata": {
        "id": "4YuVcbbjH9TT"
      },
      "execution_count": 98,
      "outputs": []
    },
    {
      "cell_type": "code",
      "source": [
        "new_player"
      ],
      "metadata": {
        "colab": {
          "base_uri": "https://localhost:8080/"
        },
        "id": "Cwoo9gDPH_TC",
        "outputId": "77331651-b7f7-4ee4-8f22-4c1df8a7d41b"
      },
      "execution_count": 99,
      "outputs": [
        {
          "output_type": "execute_result",
          "data": {
            "text/plain": [
              "<__main__.Player at 0x7ac1e317c9a0>"
            ]
          },
          "metadata": {},
          "execution_count": 99
        }
      ]
    },
    {
      "cell_type": "code",
      "source": [
        "print(new_player)"
      ],
      "metadata": {
        "colab": {
          "base_uri": "https://localhost:8080/"
        },
        "id": "t5izNH-NIBVi",
        "outputId": "aca488c6-fef0-437e-8887-64c0f94c48b2"
      },
      "execution_count": 100,
      "outputs": [
        {
          "output_type": "stream",
          "name": "stdout",
          "text": [
            "Player Jose has 0 cards.\n"
          ]
        }
      ]
    },
    {
      "cell_type": "code",
      "source": [
        "new_player.add_cards(two_hearts)"
      ],
      "metadata": {
        "id": "JuXOg2zfIEBq"
      },
      "execution_count": 101,
      "outputs": []
    },
    {
      "cell_type": "code",
      "source": [
        "print(new_player)"
      ],
      "metadata": {
        "colab": {
          "base_uri": "https://localhost:8080/"
        },
        "id": "8J36YDq5IGDJ",
        "outputId": "99403b5c-f8c5-4e69-932f-9c9d73cc4c36"
      },
      "execution_count": 102,
      "outputs": [
        {
          "output_type": "stream",
          "name": "stdout",
          "text": [
            "Player Jose has 1 cards.\n"
          ]
        }
      ]
    },
    {
      "cell_type": "code",
      "source": [
        "new_player.add_cards([two_hearts,two_hearts,two_hearts])"
      ],
      "metadata": {
        "id": "KS5KUtnlIHnq"
      },
      "execution_count": 103,
      "outputs": []
    },
    {
      "cell_type": "code",
      "source": [
        "print(new_player)"
      ],
      "metadata": {
        "colab": {
          "base_uri": "https://localhost:8080/"
        },
        "id": "1slAXMokIK_y",
        "outputId": "db56a7b1-0b70-41b9-9a6e-5bc87ad4cdd7"
      },
      "execution_count": 104,
      "outputs": [
        {
          "output_type": "stream",
          "name": "stdout",
          "text": [
            "Player Jose has 4 cards.\n"
          ]
        }
      ]
    },
    {
      "cell_type": "code",
      "source": [
        "#War Game Logic\n",
        "player_one = Player(\"One\")\n",
        "\n",
        "player_two = Player(\"Two\")"
      ],
      "metadata": {
        "id": "6j_kUvbYIMmi"
      },
      "execution_count": 105,
      "outputs": []
    },
    {
      "cell_type": "code",
      "source": [
        "#Setup New Game\n",
        "new_deck = Deck()\n",
        "new_deck.shuffle()"
      ],
      "metadata": {
        "id": "xVujlEqCIOoC"
      },
      "execution_count": 106,
      "outputs": []
    },
    {
      "cell_type": "code",
      "source": [
        "#Split the Deck between players\n",
        "len(new_deck.all_cards)/2"
      ],
      "metadata": {
        "colab": {
          "base_uri": "https://localhost:8080/"
        },
        "id": "mO0QXCq6IQYK",
        "outputId": "d5232b93-b47f-4f32-8b39-5109aaf21c36"
      },
      "execution_count": 107,
      "outputs": [
        {
          "output_type": "execute_result",
          "data": {
            "text/plain": [
              "26.0"
            ]
          },
          "metadata": {},
          "execution_count": 107
        }
      ]
    },
    {
      "cell_type": "code",
      "source": [
        "for x in range(26):\n",
        "    player_one.add_cards(new_deck.deal_one())\n",
        "    player_two.add_cards(new_deck.deal_one())"
      ],
      "metadata": {
        "id": "z7zORj12ISF6"
      },
      "execution_count": 108,
      "outputs": []
    },
    {
      "cell_type": "code",
      "source": [
        "len(new_deck.all_cards)"
      ],
      "metadata": {
        "colab": {
          "base_uri": "https://localhost:8080/"
        },
        "id": "yhXGWMENIT3q",
        "outputId": "9456e68f-f9e8-4e13-bdc6-f433f4650cf0"
      },
      "execution_count": 109,
      "outputs": [
        {
          "output_type": "execute_result",
          "data": {
            "text/plain": [
              "0"
            ]
          },
          "metadata": {},
          "execution_count": 109
        }
      ]
    },
    {
      "cell_type": "code",
      "source": [
        "len(player_one.all_cards)"
      ],
      "metadata": {
        "colab": {
          "base_uri": "https://localhost:8080/"
        },
        "id": "egDkVf0KIWaS",
        "outputId": "bc66f185-0dbf-420a-be12-f7e842e29426"
      },
      "execution_count": 110,
      "outputs": [
        {
          "output_type": "execute_result",
          "data": {
            "text/plain": [
              "26"
            ]
          },
          "metadata": {},
          "execution_count": 110
        }
      ]
    },
    {
      "cell_type": "code",
      "source": [
        "len(player_two.all_cards)"
      ],
      "metadata": {
        "colab": {
          "base_uri": "https://localhost:8080/"
        },
        "id": "QQJ52hMUIYPC",
        "outputId": "90102260-d26f-4123-bd74-4aa164b92055"
      },
      "execution_count": 111,
      "outputs": [
        {
          "output_type": "execute_result",
          "data": {
            "text/plain": [
              "26"
            ]
          },
          "metadata": {},
          "execution_count": 111
        }
      ]
    },
    {
      "cell_type": "code",
      "source": [
        "#Play the Game\n",
        "import pdb"
      ],
      "metadata": {
        "id": "Wxrua3XnIam5"
      },
      "execution_count": 112,
      "outputs": []
    },
    {
      "cell_type": "code",
      "source": [
        "game_on = True"
      ],
      "metadata": {
        "id": "ppPBWCjOIcKK"
      },
      "execution_count": 113,
      "outputs": []
    },
    {
      "cell_type": "code",
      "source": [
        "round_num = 0\n",
        "while game_on:\n",
        "\n",
        "    round_num += 1\n",
        "    print(f\"Round {round_num}\")\n",
        "\n",
        "    # Check to see if a player is out of cards:\n",
        "    if len(player_one.all_cards) == 0:\n",
        "        print(\"Player One out of cards! Game Over\")\n",
        "        print(\"Player Two Wins!\")\n",
        "        game_on = False\n",
        "        break\n",
        "\n",
        "    if len(player_two.all_cards) == 0:\n",
        "        print(\"Player Two out of cards! Game Over\")\n",
        "        print(\"Player One Wins!\")\n",
        "        game_on = False\n",
        "        break\n",
        "\n",
        "    # Otherwise, the game is still on!\n",
        "\n",
        "    # Start a new round and reset current cards \"on the table\"\n",
        "    player_one_cards = []\n",
        "    player_one_cards.append(player_one.remove_one())\n",
        "\n",
        "    player_two_cards = []\n",
        "    player_two_cards.append(player_two.remove_one())\n",
        "\n",
        "    at_war = True\n",
        "\n",
        "    while at_war:\n",
        "\n",
        "\n",
        "        if player_one_cards[-1].value > player_two_cards[-1].value:\n",
        "\n",
        "            # Player One gets the cards\n",
        "            player_one.add_cards(player_one_cards)\n",
        "            player_one.add_cards(player_two_cards)\n",
        "\n",
        "\n",
        "            # No Longer at \"war\" , time for next round\n",
        "            at_war = False\n",
        "\n",
        "        # Player Two Has higher Card\n",
        "        elif player_one_cards[-1].value < player_two_cards[-1].value:\n",
        "\n",
        "            # Player Two gets the cards\n",
        "            player_two.add_cards(player_one_cards)\n",
        "            player_two.add_cards(player_two_cards)\n",
        "\n",
        "            # No Longer at \"war\" , time for next round\n",
        "            at_war = False\n",
        "\n",
        "        else:\n",
        "            print('WAR!')\n",
        "            # This occurs when the cards are equal.\n",
        "            # We'll grab another card each and continue the current war.\n",
        "\n",
        "            # First check to see if player has enough cards\n",
        "\n",
        "            # Check to see if a player is out of cards:\n",
        "            if len(player_one.all_cards) < 5:\n",
        "                print(\"Player One unable to play war! Game Over at War\")\n",
        "                print(\"Player Two Wins! Player One Loses!\")\n",
        "                game_on = False\n",
        "                break\n",
        "\n",
        "            elif len(player_two.all_cards) < 5:\n",
        "                print(\"Player Two unable to play war! Game Over at War\")\n",
        "                print(\"Player One Wins! Player One Loses!\")\n",
        "                game_on = False\n",
        "                break\n",
        "            # Otherwise, we're still at war, so we'll add the next cards\n",
        "            else:\n",
        "                for num in range(5):\n",
        "                    player_one_cards.append(player_one.remove_one())\n",
        "                    player_two_cards.append(player_two.remove_one())"
      ],
      "metadata": {
        "colab": {
          "base_uri": "https://localhost:8080/"
        },
        "id": "MebxOgk0Idqq",
        "outputId": "424185f7-6fee-4f52-ed6f-fe988303ee77"
      },
      "execution_count": 114,
      "outputs": [
        {
          "output_type": "stream",
          "name": "stdout",
          "text": [
            "Round 1\n",
            "Round 2\n",
            "Round 3\n",
            "Round 4\n",
            "Round 5\n",
            "Round 6\n",
            "Round 7\n",
            "Round 8\n",
            "Round 9\n",
            "Round 10\n",
            "WAR!\n",
            "Round 11\n",
            "Round 12\n",
            "Round 13\n",
            "Round 14\n",
            "Round 15\n",
            "Round 16\n",
            "Round 17\n",
            "Round 18\n",
            "Round 19\n",
            "Round 20\n",
            "Round 21\n",
            "Round 22\n",
            "Round 23\n",
            "Round 24\n",
            "Round 25\n",
            "Round 26\n",
            "Round 27\n",
            "Round 28\n",
            "Round 29\n",
            "WAR!\n",
            "Round 30\n",
            "Round 31\n",
            "Round 32\n",
            "Round 33\n",
            "Round 34\n",
            "Round 35\n",
            "Round 36\n",
            "Round 37\n",
            "Round 38\n",
            "Round 39\n",
            "Round 40\n",
            "Round 41\n",
            "Round 42\n",
            "Round 43\n",
            "Round 44\n",
            "Round 45\n",
            "Round 46\n",
            "Round 47\n",
            "Round 48\n",
            "Round 49\n",
            "Round 50\n",
            "Round 51\n",
            "Round 52\n",
            "Round 53\n",
            "Round 54\n",
            "Round 55\n",
            "Round 56\n",
            "Round 57\n",
            "Round 58\n",
            "Round 59\n",
            "Round 60\n",
            "Round 61\n",
            "Round 62\n",
            "Round 63\n",
            "Round 64\n",
            "Round 65\n",
            "Round 66\n",
            "Round 67\n",
            "Round 68\n",
            "Round 69\n",
            "Round 70\n",
            "Round 71\n",
            "Round 72\n",
            "Round 73\n",
            "Round 74\n",
            "Round 75\n",
            "Round 76\n",
            "Round 77\n",
            "Round 78\n",
            "Round 79\n",
            "Round 80\n",
            "Round 81\n",
            "Round 82\n",
            "Round 83\n",
            "Round 84\n",
            "Round 85\n",
            "Round 86\n",
            "Round 87\n",
            "Round 88\n",
            "Round 89\n",
            "Round 90\n",
            "Round 91\n",
            "Round 92\n",
            "Round 93\n",
            "Round 94\n",
            "Round 95\n",
            "Round 96\n",
            "Round 97\n",
            "Round 98\n",
            "Round 99\n",
            "Round 100\n",
            "Round 101\n",
            "Round 102\n",
            "Round 103\n",
            "Round 104\n",
            "Round 105\n",
            "Round 106\n",
            "Round 107\n",
            "Round 108\n",
            "Round 109\n",
            "Round 110\n",
            "Round 111\n",
            "Round 112\n",
            "Round 113\n",
            "Round 114\n",
            "Round 115\n",
            "WAR!\n",
            "Round 116\n",
            "Round 117\n",
            "Round 118\n",
            "Round 119\n",
            "Round 120\n",
            "Round 121\n",
            "Round 122\n",
            "Round 123\n",
            "Round 124\n",
            "Round 125\n",
            "Round 126\n",
            "Round 127\n",
            "Round 128\n",
            "Round 129\n",
            "Round 130\n",
            "Round 131\n",
            "Round 132\n",
            "WAR!\n",
            "Round 133\n",
            "Round 134\n",
            "Round 135\n",
            "Round 136\n",
            "Round 137\n",
            "Round 138\n",
            "Round 139\n",
            "Round 140\n",
            "Round 141\n",
            "Round 142\n",
            "Round 143\n",
            "Round 144\n",
            "Round 145\n",
            "Round 146\n",
            "Round 147\n",
            "Round 148\n",
            "Round 149\n",
            "Round 150\n",
            "Round 151\n",
            "Round 152\n",
            "Round 153\n",
            "Round 154\n",
            "Round 155\n",
            "Round 156\n",
            "Round 157\n",
            "Round 158\n",
            "Round 159\n",
            "Round 160\n",
            "Round 161\n",
            "Round 162\n",
            "Round 163\n",
            "Round 164\n",
            "Round 165\n",
            "Round 166\n",
            "WAR!\n",
            "Round 167\n",
            "Round 168\n",
            "Round 169\n",
            "Round 170\n",
            "Round 171\n",
            "Round 172\n",
            "Round 173\n",
            "Round 174\n",
            "Round 175\n",
            "Round 176\n",
            "Round 177\n",
            "Round 178\n",
            "Round 179\n",
            "Round 180\n",
            "WAR!\n",
            "Round 181\n",
            "Round 182\n",
            "Round 183\n",
            "Round 184\n",
            "Round 185\n",
            "Round 186\n",
            "Round 187\n",
            "Round 188\n",
            "Round 189\n",
            "Round 190\n",
            "Round 191\n",
            "Round 192\n",
            "Round 193\n",
            "Round 194\n",
            "Round 195\n",
            "Round 196\n",
            "Round 197\n",
            "Round 198\n",
            "Round 199\n",
            "Round 200\n",
            "Round 201\n",
            "Round 202\n",
            "Round 203\n",
            "Round 204\n",
            "Round 205\n",
            "Round 206\n",
            "Round 207\n",
            "Round 208\n",
            "Round 209\n",
            "Round 210\n",
            "Round 211\n",
            "Round 212\n",
            "Round 213\n",
            "Round 214\n",
            "Round 215\n",
            "Round 216\n",
            "Round 217\n",
            "Round 218\n",
            "Round 219\n",
            "Round 220\n",
            "Round 221\n",
            "Round 222\n",
            "Round 223\n",
            "Round 224\n",
            "Round 225\n",
            "Round 226\n",
            "Round 227\n",
            "Round 228\n",
            "Round 229\n",
            "Round 230\n",
            "Round 231\n",
            "Round 232\n",
            "Round 233\n",
            "Round 234\n",
            "Round 235\n",
            "Round 236\n",
            "Round 237\n",
            "Round 238\n",
            "Round 239\n",
            "WAR!\n",
            "Round 240\n",
            "Round 241\n",
            "Round 242\n",
            "Round 243\n",
            "Round 244\n",
            "Round 245\n",
            "Round 246\n",
            "Round 247\n",
            "Round 248\n",
            "Round 249\n",
            "Round 250\n",
            "Round 251\n",
            "Round 252\n",
            "Round 253\n",
            "Round 254\n",
            "Round 255\n",
            "Round 256\n",
            "Round 257\n",
            "Round 258\n",
            "Round 259\n",
            "Round 260\n",
            "Round 261\n",
            "Round 262\n",
            "Round 263\n",
            "Round 264\n",
            "Round 265\n",
            "Round 266\n",
            "Round 267\n",
            "Round 268\n",
            "Round 269\n",
            "Round 270\n",
            "Round 271\n",
            "Round 272\n",
            "WAR!\n",
            "Round 273\n",
            "Round 274\n",
            "Round 275\n",
            "Round 276\n",
            "Round 277\n",
            "Round 278\n",
            "Round 279\n",
            "Round 280\n",
            "Round 281\n",
            "Round 282\n",
            "Round 283\n",
            "Round 284\n",
            "Round 285\n",
            "Round 286\n",
            "Round 287\n",
            "Round 288\n",
            "Round 289\n",
            "Round 290\n",
            "Round 291\n",
            "Round 292\n",
            "Round 293\n",
            "Round 294\n",
            "Round 295\n",
            "Round 296\n",
            "Round 297\n",
            "Round 298\n",
            "Round 299\n",
            "Round 300\n",
            "Round 301\n",
            "Round 302\n",
            "Round 303\n",
            "Round 304\n",
            "Round 305\n",
            "Round 306\n",
            "Round 307\n",
            "Round 308\n",
            "Round 309\n",
            "Round 310\n",
            "Round 311\n",
            "Round 312\n",
            "Round 313\n",
            "Round 314\n",
            "Round 315\n",
            "Round 316\n",
            "Round 317\n",
            "Player One out of cards! Game Over\n",
            "Player Two Wins!\n"
          ]
        }
      ]
    },
    {
      "cell_type": "code",
      "source": [
        "len(player_one.all_cards)"
      ],
      "metadata": {
        "colab": {
          "base_uri": "https://localhost:8080/"
        },
        "id": "c1cY_8CwIpa1",
        "outputId": "cfd21a24-446c-4ef7-ce5d-9a510d09ec32"
      },
      "execution_count": 115,
      "outputs": [
        {
          "output_type": "execute_result",
          "data": {
            "text/plain": [
              "0"
            ]
          },
          "metadata": {},
          "execution_count": 115
        }
      ]
    },
    {
      "cell_type": "code",
      "source": [
        "len(player_two.all_cards)"
      ],
      "metadata": {
        "colab": {
          "base_uri": "https://localhost:8080/"
        },
        "id": "sUJXuLMuIrSC",
        "outputId": "df1f1dff-aa98-474e-eb80-b758870872e3"
      },
      "execution_count": 116,
      "outputs": [
        {
          "output_type": "execute_result",
          "data": {
            "text/plain": [
              "52"
            ]
          },
          "metadata": {},
          "execution_count": 116
        }
      ]
    }
  ]
}